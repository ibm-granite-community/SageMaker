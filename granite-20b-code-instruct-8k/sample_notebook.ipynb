{
 "cells": [
  {
   "cell_type": "markdown",
   "id": "559e8037-005b-4130-916c-ae7b5dd12120",
   "metadata": {},
   "source": [
    "# Deploying Granite Code models in Amazon SageMaker\n",
    "\n",
    "## Introduction to Granite Code Models\n",
    "\n",
    "We introduce the Granite series of decoder-only code models for code generative tasks (e.g., fixing bugs, explaining code, documenting code), trained with code written in 116 programming languages. A comprehensive evaluation of the Granite Code model family on diverse tasks demonstrates that our models consistently reach state-of-the-art performance among available open source code LLMs.\n",
    "\n",
    "The key advantages of Granite Code models include:\n",
    "\n",
    "- **All-rounder Code LLM**: Granite Code models achieve competitive or state-of-the-art performance on different kinds of code-related tasks, including code generation, explanation, fixing, editing, translation, and more. Demonstrating their ability to solve diverse coding tasks.\n",
    "- **Trustworthy Enterprise-Grade LLM**: All our models are trained on license-permissible data collected following IBM's AI Ethics principles and guided by IBM’s Corporate Legal team for trustworthy enterprise usage. We release all our Granite Code models under an Apache 2.0 license for research and commercial use.\n",
    "\n",
    "The family of Granite Code Models comes in two main variants:\n",
    "\n",
    "- **Granite Code Base Models**: Base foundational models designed for code-related tasks (e.g., code repair, code explanation, code synthesis).\n",
    "- **Granite Code Instruct Models**: Instruction-following models finetuned using a combination of Git commits paired with human instructions and open source synthetically generated code instruction datasets.\n",
    "\n",
    "Both base and instruct models are available in sizes of 3B, 8B, 20B, and 34B parameters.\n",
    "\n",
    "IBM has released the Granite Code models to open source under the permissive Apache 2.0 license, enabling their use for both research and commercial purposes with no restrictions. The models are available on Amazon SageMaker JumpStart, the AWS Marketplace, and on [Hugging Face](https://huggingface.co/ibm-granite).\n",
    "\n",
    "In this notebook, we will deploy the Granite models on Amazon SageMaker for accelerating legacy code conversion and modernization use cases.\n",
    "\n",
    "## Pre-requisites\n",
    "\n",
    "- Before running this notebook, please make sure you got this notebook from the model catalog on SageMaker AWS Management Console.\n",
    "- *Note*: Open this notebook from an Amazon SageMaker Notebook Instance or Amazon SageMaker Studio.\n",
    "- Ensure that the IAM role used has **AmazonSageMakerFullAccess**.\n",
    "\n",
    "## Contents\n",
    "\n",
    "1. **Deploying Granite Code models in Amazon SageMaker**\n",
    "    - To subscribe to the model package\n",
    "    - Select the model package\n",
    "2. **Create an endpoint and perform real-time inference**\n",
    "    - Define the endpoint configuration\n",
    "    - Create the endpoint\n",
    "3. **Run inference with the model**\n",
    "    - Example 1: Code Generation\n",
    "    - Example 2: Code Conversion\n",
    "    - Example 3: Code Conversion (C to Java)\n",
    "3. **Clean-up**\n",
    "    - Delete the endpoint\n",
    "    - Delete the model    \n",
    "\n",
    "## Usage Instructions\n",
    "\n",
    "You can run this notebook one cell at a time by using **Shift+Enter** to run a cell."
   ]
  },
  {
   "cell_type": "markdown",
   "id": "f9e559f9-e514-4aae-9b15-d4b626f9a94c",
   "metadata": {},
   "source": [
    "## Deploying Granite Code models in Amazon SageMaker\n",
    "\n",
    "### To subscribe to the model package:\n",
    "\n",
    "1. Open the model package listing page [IBM Granite 20B Code Instruct - 8K](https://aws.amazon.com/marketplace/pp/prodview-ezh4cr7om23rm)\n",
    "2. On the AWS Marketplace listing, click on the Continue to subscribe button.\n",
    "3. On the Subscribe to this software page, review and click on \"Accept Offer\" if you and your organization agrees with EULA, pricing, and support terms.\n",
    "4. Once you click on Continue to configuration button and then choose a region, you will see a Product Arn displayed. This is the model package ARN that you need to specify while creating a deployable model using Boto3. Copy the ARN corresponding to your region and specify the same in the following cell."
   ]
  },
  {
   "cell_type": "markdown",
   "id": "b5942175-4354-4bec-8e27-6ab4f2c0d541",
   "metadata": {},
   "source": [
    "### 1. Select the model package\n",
    "\n",
    "Confirm that you received this notebook from model catalog on SageMaker AWS Management Console."
   ]
  },
  {
   "cell_type": "code",
   "execution_count": null,
   "id": "e8ca3851-308a-4144-a762-ea9f024796f6",
   "metadata": {
    "tags": []
   },
   "outputs": [],
   "source": [
    "model_package_map = {\n",
    "    \"us-east-1\": \"arn:aws:sagemaker:us-east-1:865070037744:model-package/granite-20b-code-instruct-8k-0c483c60841136e9a384e4af2503f5dd\",\n",
    "    \"us-east-2\": \"arn:aws:sagemaker:us-east-2:057799348421:model-package/granite-20b-code-instruct-8k-0c483c60841136e9a384e4af2503f5dd\",\n",
    "    \"us-west-1\": \"arn:aws:sagemaker:us-west-1:382657785993:model-package/granite-20b-code-instruct-8k-0c483c60841136e9a384e4af2503f5dd\",\n",
    "    \"us-west-2\": \"arn:aws:sagemaker:us-west-2:594846645681:model-package/granite-20b-code-instruct-8k-0c483c60841136e9a384e4af2503f5dd\",\n",
    "    \"ca-central-1\": \"arn:aws:sagemaker:ca-central-1:470592106596:model-package/granite-20b-code-instruct-8k-0c483c60841136e9a384e4af2503f5dd\",\n",
    "    \"eu-central-1\": \"arn:aws:sagemaker:eu-central-1:446921602837:model-package/granite-20b-code-instruct-8k-0c483c60841136e9a384e4af2503f5dd\",\n",
    "    \"eu-west-1\": \"arn:aws:sagemaker:eu-west-1:985815980388:model-package/granite-20b-code-instruct-8k-0c483c60841136e9a384e4af2503f5dd\",\n",
    "    \"eu-west-2\": \"arn:aws:sagemaker:eu-west-2:856760150666:model-package/granite-20b-code-instruct-8k-0c483c60841136e9a384e4af2503f5dd\",\n",
    "    \"eu-west-3\": \"arn:aws:sagemaker:eu-west-3:843114510376:model-package/granite-20b-code-instruct-8k-0c483c60841136e9a384e4af2503f5dd\",\n",
    "    \"eu-north-1\": \"arn:aws:sagemaker:eu-north-1:136758871317:model-package/granite-20b-code-instruct-8k-0c483c60841136e9a384e4af2503f5dd\",\n",
    "    \"ap-southeast-1\": \"arn:aws:sagemaker:ap-southeast-1:192199979996:model-package/granite-20b-code-instruct-8k-0c483c60841136e9a384e4af2503f5dd\",\n",
    "    \"ap-southeast-2\": \"arn:aws:sagemaker:ap-southeast-2:666831318237:model-package/granite-20b-code-instruct-8k-0c483c60841136e9a384e4af2503f5dd\",\n",
    "    \"ap-northeast-2\": \"arn:aws:sagemaker:ap-northeast-2:745090734665:model-package/granite-20b-code-instruct-8k-0c483c60841136e9a384e4af2503f5dd\",\n",
    "    \"ap-northeast-1\": \"arn:aws:sagemaker:ap-northeast-1:977537786026:model-package/granite-20b-code-instruct-8k-0c483c60841136e9a384e4af2503f5dd\",\n",
    "    \"ap-south-1\": \"arn:aws:sagemaker:ap-south-1:077584701553:model-package/granite-20b-code-instruct-8k-0c483c60841136e9a384e4af2503f5dd\",\n",
    "    \"sa-east-1\": \"arn:aws:sagemaker:sa-east-1:270155090741:model-package/granite-20b-code-instruct-8k-0c483c60841136e9a384e4af2503f5dd\"\n",
    "}"
   ]
  },
  {
   "cell_type": "code",
   "execution_count": null,
   "id": "f10574fa",
   "metadata": {},
   "outputs": [],
   "source": [
    "!pip install --upgrade pip\n",
    "!pip install -U sagemaker -q"
   ]
  },
  {
   "cell_type": "code",
   "execution_count": null,
   "id": "8cae3d8a-f29f-4c98-a6bf-b8c386f11ffe",
   "metadata": {
    "scrolled": true
   },
   "outputs": [],
   "source": [
    "import json\n",
    "import pprint\n",
    "from datetime import datetime\n",
    "\n",
    "import boto3\n",
    "import sagemaker\n",
    "from sagemaker import ModelPackage, get_execution_role"
   ]
  },
  {
   "cell_type": "code",
   "execution_count": null,
   "id": "66604be7",
   "metadata": {},
   "outputs": [],
   "source": [
    "sagemaker_session = sagemaker.Session()\n",
    "\n",
    "try:\n",
    "    execution_role_arn = sagemaker.get_execution_role()\n",
    "except ValueError:\n",
    "    execution_role_arn = None\n",
    "\n",
    "if execution_role_arn == None:\n",
    "    execution_role_arn = input(\"Enter your execution role ARN: \")\n",
    "\n",
    "region = sagemaker_session.boto_region_name\n",
    "runtime_sm_client = boto3.client(\"runtime.sagemaker\")\n",
    "\n",
    "print (\"execution_role_arn: \", execution_role_arn)\n",
    "print (\"region: \", region)"
   ]
  },
  {
   "cell_type": "code",
   "execution_count": null,
   "id": "9ea9900e",
   "metadata": {},
   "outputs": [],
   "source": [
    "if region not in model_package_map.keys():\n",
    "    raise \"UNSUPPORTED REGION\"\n",
    "\n",
    "model_package_arn = model_package_map[region]\n",
    "\n",
    "print (\"model_package_arn: \", model_package_arn)"
   ]
  },
  {
   "cell_type": "markdown",
   "id": "fd157bea",
   "metadata": {},
   "source": [
    "## Create an endpoint and perform real-time inference\n",
    "\n",
    "In this example, we're deploying IBM  Granite-20B-Code-Instruct-8K on an Amazon SageMaker real-time endpoint hosted on a GPU instance. If you need general information on real-time inference with Amazon SageMaker, please refer to the SageMaker documentation.\n",
    "\n",
    "For flexibility, you can pick from two sample configurations, depending your use case and the instances types available to you. Please make sure to run just one of the configuration cells below.\n",
    "\n",
    "The endpoint configuration focuses on cost efficiency. It uses a ml.g5.12xlarge instance. This instance has a four NVIDIA A10G GPU, with 96 GB of GPU RAM. Granite-20B-Code-Instruct-8K is a 20B parameter long-context instruct model fine tuned from Granite-20B-Code-Base-8K on a combination of permissively licensed data used in training the original Granite code instruct models, in addition to synthetically generated code instruction datasets tailored for solving long context problems. By exposing the model to both short and long context data, we aim to enhance its long-context capability without sacrificing code generation performance at short input context.\n"
   ]
  },
  {
   "cell_type": "markdown",
   "id": "45d7e59f",
   "metadata": {},
   "source": [
    "### 2. Define the endpoint configuration"
   ]
  },
  {
   "cell_type": "code",
   "execution_count": null,
   "id": "86e7f307",
   "metadata": {},
   "outputs": [],
   "source": [
    "model_name = \"granite-20b-code-instruct-8k\"\n",
    "inference_instance_type = \"ml.g5.12xlarge\"\n",
    "model_download_timeout = 3600\n",
    "health_check_timeout = 900\n",
    "instance_count = 1"
   ]
  },
  {
   "cell_type": "markdown",
   "id": "747e1911",
   "metadata": {},
   "source": [
    "### 3. Create the endpoint"
   ]
  },
  {
   "cell_type": "code",
   "execution_count": null,
   "id": "81557d2d",
   "metadata": {},
   "outputs": [],
   "source": [
    "# create a deployable model from the model package.\n",
    "model = ModelPackage(\n",
    "    role=execution_role_arn, model_package_arn=model_package_arn, sagemaker_session=sagemaker_session\n",
    ")\n",
    "\n",
    "# create a unique endpoint name\n",
    "timestamp = \"{:%Y-%m-%d-%H-%M-%S}\".format(datetime.now())\n",
    "endpoint_name = f\"{model_name}-{timestamp}\"\n",
    "print(f\"Deploying endpoint {endpoint_name}\")"
   ]
  },
  {
   "cell_type": "code",
   "execution_count": null,
   "id": "328703cb-8b3f-4c18-b2e7-87092dabeadb",
   "metadata": {},
   "outputs": [],
   "source": [
    "# deploy the model\n",
    "deployed_model = model.deploy(\n",
    "    initial_instance_count=instance_count,\n",
    "    instance_type=inference_instance_type,\n",
    "    endpoint_name=endpoint_name,\n",
    "    model_data_download_timeout=model_download_timeout,\n",
    "    container_startup_health_check_timeout=health_check_timeout,\n",
    ")"
   ]
  },
  {
   "cell_type": "markdown",
   "id": "f2cd90e3",
   "metadata": {},
   "source": [
    "\n",
    "If you have already deployed your model, you can also access it via your chosen endpoint_name and sagemaker_session:"
   ]
  },
  {
   "cell_type": "code",
   "execution_count": null,
   "id": "7fb2a77e",
   "metadata": {},
   "outputs": [],
   "source": [
    "deployed_model = sagemaker.Predictor(\n",
    "    endpoint_name=endpoint_name,\n",
    "    sagemaker_session=sagemaker_session,\n",
    ")"
   ]
  },
  {
   "cell_type": "markdown",
   "id": "21ec2c1a",
   "metadata": {},
   "source": [
    "SageMaker will now create our endpoint and deploy the model to it. This can takes a 10-15 minutes. Once the endpoint is in service, you will be able to perform real-time inference."
   ]
  },
  {
   "cell_type": "markdown",
   "id": "bc25f153",
   "metadata": {},
   "source": [
    "## Run inference with the model\n",
    "\n",
    "Now that we have the Granite Code model loaded and deployed to a SageMaker endpoint, we can start generating or converting code. We use the predict method from the predictor to run inference on our endpoint. We can inference with different parameters to impact the generation. Parameters can be defined as in the parameters attribute of the payload."
   ]
  },
  {
   "cell_type": "markdown",
   "id": "a1060f40",
   "metadata": {},
   "source": [
    "### 4. Example 1: Code Generation\n",
    "\n",
    "In this example, we want to write a function in the Python programming language that reverses a string."
   ]
  },
  {
   "cell_type": "code",
   "execution_count": null,
   "id": "c5ed3633",
   "metadata": {},
   "outputs": [],
   "source": [
    "prompt_1 = \"\"\"Using the directions below, generate Python code for the specified task.\n",
    "\n",
    "Question:\n",
    "# Write a Python function that prints 'Hello World!' string 'n' times.\n",
    "\n",
    "Answer:\n",
    "def print_n_times(n):\n",
    "    for i in range(n):\n",
    "        print(\"Hello World!\")\n",
    "\n",
    "<end of code>\n",
    "\n",
    "Question:\n",
    "# Write a Python function that reverses the order of letters in a string.\n",
    "# The function named 'reversed' takes the argument 'my_string', which is a string. It returns the string in reverse order.\n",
    "\n",
    "Answer:\"\"\""
   ]
  },
  {
   "cell_type": "code",
   "execution_count": null,
   "id": "b2fba4bc",
   "metadata": {},
   "outputs": [],
   "source": [
    "# hyperparameters for llm\n",
    "payload_1 = {\n",
    "    \"inputs\": prompt_1,\n",
    "    \"parameters\": {\n",
    "        \"do_sample\": True,\n",
    "        \"top_p\": 0.6,\n",
    "        \"temperature\": 0.1,\n",
    "        \"top_k\": 50,\n",
    "        \"max_new_tokens\": 1000,\n",
    "        \"repetition_penalty\": 1.03,\n",
    "        \"stop\": [\"<end of code>\"],\n",
    "    },\n",
    "}\n",
    "\n",
    "# send request to endpoint\n",
    "response_1 = deployed_model.predict(\n",
    "    data=json.dumps(payload_1),\n",
    "    initial_args={\"Accept\": \"application/json\", \"ContentType\": \"application/json\"},\n",
    ").decode(\"utf-8\")\n",
    "\n",
    "generated_text_1 = json.loads(response_1)[\"generated_text\"]\n",
    "print(generated_text_1)\n"
   ]
  },
  {
   "cell_type": "markdown",
   "id": "40bc1bfe",
   "metadata": {},
   "source": [
    "The output contains Python code similar to the following snippet:\n",
    "\n",
    "```python\n",
    "    def reverse_string(my_string):\n",
    "        return my_string[::-1]\n",
    "```\n",
    "\n",
    "Be sure to test the generated code to verify that it works as you expect.\n",
    "\n",
    "For example, if you run `reversed(\\\"good morning\\\")`, the result is `gninrom doog`."
   ]
  },
  {
   "cell_type": "markdown",
   "id": "cad2cf3e",
   "metadata": {},
   "source": [
    "### 5. Example 2: Code Conversion\n",
    "\n",
    "In this example, we want to convert code from one programming language to another. The prompt below converts a code snippet from C++ to Python."
   ]
  },
  {
   "cell_type": "code",
   "execution_count": null,
   "id": "a32f5c2f",
   "metadata": {},
   "outputs": [],
   "source": [
    "prompt_2 = \"\"\"\n",
    "Question:\n",
    "Translate the following code from C++ to Python.\n",
    "C++:\n",
    "#include \"bits/stdc++.h\"\n",
    "using namespace std;\n",
    "bool isPerfectSquare(long double x) {\n",
    "  long double sr = sqrt(x);\n",
    "  return ((sr - floor(sr)) == 0);\n",
    "}\n",
    "void checkSunnyNumber(int N) {\n",
    "  if (isPerfectSquare(N + 1)) {\n",
    "    cout << \"Yes\n",
    "\";\n",
    "  } else {\n",
    "    cout << \"No\n",
    "\";\n",
    "  }\n",
    "}\n",
    "int main() {\n",
    "  int N = 8;\n",
    "  checkSunnyNumber(N);\n",
    "  return 0;\n",
    "}\n",
    "\n",
    "Answer:\n",
    "Python:\n",
    "from math import *\n",
    " \n",
    "def isPerfectSquare(x):\n",
    "    sr = sqrt(x)\n",
    "    return ((sr - floor(sr)) == 0)\n",
    " \n",
    "def checkSunnyNumber(N):\n",
    "    if (isPerfectSquare(N + 1)):\n",
    "        print(\"Yes\")\n",
    "    else:\n",
    "        print(\"No\")\n",
    " \n",
    "if __name__ == '__main__':\n",
    "    N = 8\n",
    "    checkSunnyNumber(N)\n",
    "\n",
    "<end of code>\n",
    "\n",
    "Question:\n",
    "Translate the following code from C++ to Python.\n",
    "C++:\n",
    "#include <bits/stdc++.h>\n",
    "using namespace std;\n",
    "int countAPs(int S, int D) {\n",
    "  S = S * 2;\n",
    "  int answer = 0;\n",
    "  for (int i = 1; i <= sqrt(S); i++) {\n",
    "    if (S % i == 0) {\n",
    "      if (((S / i) - D * i + D) % 2 == 0)\n",
    "        answer++;\n",
    "      if ((D * i - (S / i) + D) % 2 == 0)\n",
    "        answer++;\n",
    "    }\n",
    "  }\n",
    "  return answer;\n",
    "}\n",
    "int main() {\n",
    "  int S = 12, D = 1;\n",
    "  cout << countAPs(S, D);\n",
    "  return 0;\n",
    "}\n",
    "\n",
    "Answer:\n",
    "\"\"\""
   ]
  },
  {
   "cell_type": "markdown",
   "id": "f2710ed9",
   "metadata": {},
   "source": [
    "You can send the prompt to the Granite Code model loaded and deployed to the SageMaker endpoint, and adjust the following hyperparameters."
   ]
  },
  {
   "cell_type": "code",
   "execution_count": null,
   "id": "adcc72f9",
   "metadata": {},
   "outputs": [],
   "source": [
    "# hyperparameters for llm\n",
    "payload_2 = {\n",
    "    \"inputs\": prompt_2,\n",
    "    \"parameters\": {\n",
    "        \"do_sample\": True,\n",
    "        \"top_p\": 0.6,\n",
    "        \"temperature\": 0.1,\n",
    "        \"top_k\": 50,\n",
    "        \"max_new_tokens\": 1000,\n",
    "        \"repetition_penalty\": 1.03,\n",
    "        \"stop\": [\"<end of code>\"],\n",
    "    },\n",
    "}\n",
    "\n",
    "# send request to endpoint\n",
    "response_2 = deployed_model.predict(\n",
    "    data=json.dumps(payload_2),\n",
    "    initial_args={\"Accept\": \"application/json\", \"ContentType\": \"application/json\"},\n",
    ").decode(\"utf-8\")\n",
    "\n",
    "generated_text_2 = json.loads(response_2)[\"generated_text\"]\n",
    "print(generated_text_2)\n"
   ]
  },
  {
   "cell_type": "markdown",
   "id": "e2f07578",
   "metadata": {},
   "source": [
    "The output contains Python code similar to the following snippet:\n",
    "\n",
    "```python\n",
    "    from math import *\n",
    " \n",
    "    def countAPs(S, D):\n",
    "        S = S * 2\n",
    "        answer = 0\n",
    "        for i in range(1, int(sqrt(S)) + 1):\n",
    "            if S % i == 0:\n",
    "                if ((S // i) - D * i + D) % 2 == 0:\n",
    "                    answer += 1\n",
    "                if (D * i - (S // i) + D) % 2 == 0:\n",
    "                    answer += 1\n",
    "        return answer\n",
    " \n",
    "    if __name__ == '__main__':\n",
    "        S = 12\n",
    "        D = 1\n",
    "        print(countAPs(S, D))\n",
    "```\n",
    "\n",
    "Be sure to test the generated code to verify that it works as you expect."
   ]
  },
  {
   "cell_type": "markdown",
   "id": "48007429",
   "metadata": {},
   "source": [
    "### 6. Example 3: Code Conversion (C to Java)\n",
    "\n",
    "In this example, you want to convert code from one programming language to another. The prompt below converts a code snippet from C to Java.\n",
    "\n",
    "Specifically, we cover common programming constructs like linked lists and file I/O operations. The C code is converted to Java while preserving the functionality and logic. In the Java code, we utilize classes, objects, and Java-specific APIs like **FileWriter** and **BufferedReader** to achieve similar results as the C code.\n",
    "\n",
    "- In the first example, the C code implements a singly linked list data structure. It defines a **Node** struct containing an integer data value and a pointer to the next node. The code provides functions to create a new node, add a node to the end of the list, and print the list.\n",
    "\n",
    "- In the second example, the C code demonstrates how to write data to a file and then read the data back from the file. It opens a file named **\"example.txt\"** in write mode, writes a string to the file, and closes the file. Then, it opens the same file in read mode, reads the contents into a buffer, and prints the buffer to the console."
   ]
  },
  {
   "cell_type": "code",
   "execution_count": null,
   "id": "c68c4fbc",
   "metadata": {},
   "outputs": [],
   "source": [
    "prompt_3 = \"\"\"\n",
    "Question:\n",
    "Translate the following code from C to Java.\n",
    "\n",
    "C Code:\n",
    "\n",
    "```c\n",
    "#include <stdio.h>\n",
    "#include <stdlib.h>\n",
    "\n",
    "typedef struct Node {\n",
    "    int data;\n",
    "    struct Node* next;\n",
    "} Node;\n",
    "\n",
    "Node* createNode(int data) {\n",
    "    Node* newNode = (Node*)malloc(sizeof(Node));\n",
    "    newNode->data = data;\n",
    "    newNode->next = NULL;\n",
    "    return newNode;\n",
    "}\n",
    "\n",
    "void addNode(Node** head, int data) {\n",
    "    Node* newNode = createNode(data);\n",
    "    if (*head == NULL) {\n",
    "        *head = newNode;\n",
    "        return;\n",
    "    }\n",
    "    Node* temp = *head;\n",
    "    while (temp->next != NULL) {\n",
    "        temp = temp->next;\n",
    "    }\n",
    "    temp->next = newNode;\n",
    "}\n",
    "\n",
    "void printList(Node* head) {\n",
    "    Node* temp = head;\n",
    "    while (temp != NULL) {\n",
    "        printf(\"%d \", temp->data);\n",
    "        temp = temp->next;\n",
    "    }\n",
    "    printf(\"\\n\");\n",
    "}\n",
    "\n",
    "int main() {\n",
    "    Node* head = NULL;\n",
    "    addNode(&head, 1);\n",
    "    addNode(&head, 2);\n",
    "    addNode(&head, 3);\n",
    "    printList(head);\n",
    "    return 0;\n",
    "}\n",
    "```\n",
    "\n",
    "Java Code:\n",
    "\n",
    "```java\n",
    "class Node {\n",
    "    int data;\n",
    "    Node next;\n",
    "\n",
    "    Node(int data) {\n",
    "        this.data = data;\n",
    "        next = null;\n",
    "    }\n",
    "}\n",
    "\n",
    "class LinkedList {\n",
    "    Node head;\n",
    "\n",
    "    void addNode(int data) {\n",
    "        Node newNode = new Node(data);\n",
    "        if (head == null) {\n",
    "            head = newNode;\n",
    "            return;\n",
    "        }\n",
    "        Node temp = head;\n",
    "        while (temp.next != null) {\n",
    "            temp = temp.next;\n",
    "        }\n",
    "        temp.next = newNode;\n",
    "    }\n",
    "\n",
    "    void printList() {\n",
    "        Node temp = head;\n",
    "        while (temp != null) {\n",
    "            System.out.print(temp.data + \" \");\n",
    "            temp = temp.next;\n",
    "        }\n",
    "        System.out.println();\n",
    "    }\n",
    "\n",
    "    public static void main(String[] args) {\n",
    "        LinkedList list = new LinkedList();\n",
    "        list.addNode(1);\n",
    "        list.addNode(2);\n",
    "        list.addNode(3);\n",
    "        list.printList();\n",
    "    }\n",
    "}\n",
    "```\n",
    "\n",
    "<end of code>\n",
    "\n",
    "Question:\n",
    "Translate the following code from C to Java.\n",
    "\n",
    "C Code:\n",
    "\n",
    "```c\n",
    "#include <stdio.h>\n",
    "#include <stdlib.h>\n",
    "\n",
    "int main() {\n",
    "    FILE* file = fopen(\"example.txt\", \"w\");\n",
    "    if (file == NULL) {\n",
    "        printf(\"Error opening file!\\n\");\n",
    "        return 1;\n",
    "    }\n",
    "\n",
    "    fprintf(file, \"This is an example of writing to a file.\\n\");\n",
    "    fclose(file);\n",
    "\n",
    "    file = fopen(\"example.txt\", \"r\");\n",
    "    if (file == NULL) {\n",
    "        printf(\"Error opening file!\\n\");\n",
    "        return 1;\n",
    "    }\n",
    "\n",
    "    char buffer[100];\n",
    "    while (fgets(buffer, sizeof(buffer), file) != NULL) {\n",
    "        printf(\"%s\", buffer);\n",
    "    }\n",
    "\n",
    "    fclose(file);\n",
    "    return 0;\n",
    "}\n",
    "```\n",
    "Answer:\n",
    "\"\"\""
   ]
  },
  {
   "cell_type": "code",
   "execution_count": null,
   "id": "6898c9aa-23dc-437b-9c08-d673d290669c",
   "metadata": {},
   "outputs": [],
   "source": [
    "# hyperparameters for llm\n",
    "payload_3 = {\n",
    "    \"inputs\": prompt_3,\n",
    "    \"parameters\": {\n",
    "        \"do_sample\": True,\n",
    "        \"top_p\": 0.6,\n",
    "        \"temperature\": 0.1,\n",
    "        \"top_k\": 50,\n",
    "        \"max_new_tokens\": 1000,\n",
    "        \"repetition_penalty\": 1.03,\n",
    "        \"stop\": [\"<end of code>\"],\n",
    "    },\n",
    "}\n",
    "\n",
    "# send request to endpoint\n",
    "response_3 = deployed_model.predict(\n",
    "    data=json.dumps(payload_3),\n",
    "    initial_args={\"Accept\": \"application/json\", \"ContentType\": \"application/json\"},\n",
    ").decode(\"utf-8\")\n",
    "\n",
    "generated_text_3 = json.loads(response_3)[\"generated_text\"]\n",
    "print(generated_text_3)\n"
   ]
  },
  {
   "cell_type": "markdown",
   "id": "4aa1c9b6",
   "metadata": {},
   "source": [
    "\n",
    "\n",
    "The output contains Java code similar to the following snippet:\n",
    "\n",
    "```java\n",
    "    import java.io.*;\n",
    "\n",
    "    public class FileExample {\n",
    "        public static void main(String[] args) {\n",
    "            try (FileWriter writer = new FileWriter(\"example.txt\");\n",
    "                BufferedReader reader = new BufferedReader(new FileReader(\"example.txt\"))) {\n",
    "\n",
    "                writer.write(\"This is an example of writing to a file.\");\n",
    "\n",
    "                String line;\n",
    "                while ((line = reader.readLine())!= null) {\n",
    "                    System.out.println(line);\n",
    "                }\n",
    "            } catch (IOException e) {\n",
    "                System.out.println(\"An error occurred: \" + e.getMessage());\n",
    "            }\n",
    "        }\n",
    "    }\n",
    "```"
   ]
  },
  {
   "cell_type": "markdown",
   "id": "c943e029-2633-4f74-8440-fe48d1348bb7",
   "metadata": {},
   "source": [
    "## Clean-up\n",
    "\n",
    "Please don't forget to run the cells below to delete all resources and avoid unecessary charges."
   ]
  },
  {
   "cell_type": "markdown",
   "id": "c0221806",
   "metadata": {},
   "source": [
    "### 7. Delete the endpoint"
   ]
  },
  {
   "cell_type": "code",
   "execution_count": null,
   "id": "b1b7ddde-e511-40e2-8313-55c3aa6c85e7",
   "metadata": {
    "tags": []
   },
   "outputs": [],
   "source": [
    "model.sagemaker_session.delete_endpoint(endpoint_name)\n",
    "model.sagemaker_session.delete_endpoint_config(endpoint_name)"
   ]
  },
  {
   "cell_type": "markdown",
   "id": "fd62a004",
   "metadata": {},
   "source": [
    "### 8. Delete the model"
   ]
  },
  {
   "cell_type": "code",
   "execution_count": null,
   "id": "510f2851",
   "metadata": {},
   "outputs": [],
   "source": [
    "model.delete_model()"
   ]
  },
  {
   "cell_type": "markdown",
   "id": "89492dab",
   "metadata": {},
   "source": [
    "Thank you for trying out IBM Granite Code Model on SageMaker. We have only scratched the surface of what you can do with this model.\n",
    "\n",
    "Welcome to your IBM Granite Model support experience! You can view, start, or contribute to community discussions (sign in to contribute). View supplemental resources and  [sign](https://www.ibm.com/mysupport/s/?language=en_US) in to open a new case."
   ]
  },
  {
   "cell_type": "markdown",
   "id": "baa81e67",
   "metadata": {},
   "source": [
    "## Would you like to provide feedback?\n",
    "\n",
    "Please let us know your comments about our family of code models by visiting our collection. Select the repository of the model you would like to provide feedback about. Then, go to Community tab, and click on New discussion. Alternatively, you can also post any questions/comments on our github discussions page.\n",
    "\n",
    "Do you have an idea for improving a product? Submit it [here](https://www.ibm.com/mysupport/s/topic/0TO5000000026r6GAA/ibm-feedback?language=en_US)."
   ]
  }
 ],
 "metadata": {
  "availableInstances": [
   {
    "_defaultOrder": 0,
    "_isFastLaunch": true,
    "category": "General purpose",
    "gpuNum": 0,
    "hideHardwareSpecs": false,
    "memoryGiB": 4,
    "name": "ml.t3.medium",
    "vcpuNum": 2
   },
   {
    "_defaultOrder": 1,
    "_isFastLaunch": false,
    "category": "General purpose",
    "gpuNum": 0,
    "hideHardwareSpecs": false,
    "memoryGiB": 8,
    "name": "ml.t3.large",
    "vcpuNum": 2
   },
   {
    "_defaultOrder": 2,
    "_isFastLaunch": false,
    "category": "General purpose",
    "gpuNum": 0,
    "hideHardwareSpecs": false,
    "memoryGiB": 16,
    "name": "ml.t3.xlarge",
    "vcpuNum": 4
   },
   {
    "_defaultOrder": 3,
    "_isFastLaunch": false,
    "category": "General purpose",
    "gpuNum": 0,
    "hideHardwareSpecs": false,
    "memoryGiB": 32,
    "name": "ml.t3.2xlarge",
    "vcpuNum": 8
   },
   {
    "_defaultOrder": 4,
    "_isFastLaunch": true,
    "category": "General purpose",
    "gpuNum": 0,
    "hideHardwareSpecs": false,
    "memoryGiB": 8,
    "name": "ml.m5.large",
    "vcpuNum": 2
   },
   {
    "_defaultOrder": 5,
    "_isFastLaunch": false,
    "category": "General purpose",
    "gpuNum": 0,
    "hideHardwareSpecs": false,
    "memoryGiB": 16,
    "name": "ml.m5.xlarge",
    "vcpuNum": 4
   },
   {
    "_defaultOrder": 6,
    "_isFastLaunch": false,
    "category": "General purpose",
    "gpuNum": 0,
    "hideHardwareSpecs": false,
    "memoryGiB": 32,
    "name": "ml.m5.2xlarge",
    "vcpuNum": 8
   },
   {
    "_defaultOrder": 7,
    "_isFastLaunch": false,
    "category": "General purpose",
    "gpuNum": 0,
    "hideHardwareSpecs": false,
    "memoryGiB": 64,
    "name": "ml.m5.4xlarge",
    "vcpuNum": 16
   },
   {
    "_defaultOrder": 8,
    "_isFastLaunch": false,
    "category": "General purpose",
    "gpuNum": 0,
    "hideHardwareSpecs": false,
    "memoryGiB": 128,
    "name": "ml.m5.8xlarge",
    "vcpuNum": 32
   },
   {
    "_defaultOrder": 9,
    "_isFastLaunch": false,
    "category": "General purpose",
    "gpuNum": 0,
    "hideHardwareSpecs": false,
    "memoryGiB": 192,
    "name": "ml.m5.12xlarge",
    "vcpuNum": 48
   },
   {
    "_defaultOrder": 10,
    "_isFastLaunch": false,
    "category": "General purpose",
    "gpuNum": 0,
    "hideHardwareSpecs": false,
    "memoryGiB": 256,
    "name": "ml.m5.16xlarge",
    "vcpuNum": 64
   },
   {
    "_defaultOrder": 11,
    "_isFastLaunch": false,
    "category": "General purpose",
    "gpuNum": 0,
    "hideHardwareSpecs": false,
    "memoryGiB": 384,
    "name": "ml.m5.24xlarge",
    "vcpuNum": 96
   },
   {
    "_defaultOrder": 12,
    "_isFastLaunch": false,
    "category": "General purpose",
    "gpuNum": 0,
    "hideHardwareSpecs": false,
    "memoryGiB": 8,
    "name": "ml.m5d.large",
    "vcpuNum": 2
   },
   {
    "_defaultOrder": 13,
    "_isFastLaunch": false,
    "category": "General purpose",
    "gpuNum": 0,
    "hideHardwareSpecs": false,
    "memoryGiB": 16,
    "name": "ml.m5d.xlarge",
    "vcpuNum": 4
   },
   {
    "_defaultOrder": 14,
    "_isFastLaunch": false,
    "category": "General purpose",
    "gpuNum": 0,
    "hideHardwareSpecs": false,
    "memoryGiB": 32,
    "name": "ml.m5d.2xlarge",
    "vcpuNum": 8
   },
   {
    "_defaultOrder": 15,
    "_isFastLaunch": false,
    "category": "General purpose",
    "gpuNum": 0,
    "hideHardwareSpecs": false,
    "memoryGiB": 64,
    "name": "ml.m5d.4xlarge",
    "vcpuNum": 16
   },
   {
    "_defaultOrder": 16,
    "_isFastLaunch": false,
    "category": "General purpose",
    "gpuNum": 0,
    "hideHardwareSpecs": false,
    "memoryGiB": 128,
    "name": "ml.m5d.8xlarge",
    "vcpuNum": 32
   },
   {
    "_defaultOrder": 17,
    "_isFastLaunch": false,
    "category": "General purpose",
    "gpuNum": 0,
    "hideHardwareSpecs": false,
    "memoryGiB": 192,
    "name": "ml.m5d.12xlarge",
    "vcpuNum": 48
   },
   {
    "_defaultOrder": 18,
    "_isFastLaunch": false,
    "category": "General purpose",
    "gpuNum": 0,
    "hideHardwareSpecs": false,
    "memoryGiB": 256,
    "name": "ml.m5d.16xlarge",
    "vcpuNum": 64
   },
   {
    "_defaultOrder": 19,
    "_isFastLaunch": false,
    "category": "General purpose",
    "gpuNum": 0,
    "hideHardwareSpecs": false,
    "memoryGiB": 384,
    "name": "ml.m5d.24xlarge",
    "vcpuNum": 96
   },
   {
    "_defaultOrder": 20,
    "_isFastLaunch": false,
    "category": "General purpose",
    "gpuNum": 0,
    "hideHardwareSpecs": true,
    "memoryGiB": 0,
    "name": "ml.geospatial.interactive",
    "supportedImageNames": [
     "sagemaker-geospatial-v1-0"
    ],
    "vcpuNum": 0
   },
   {
    "_defaultOrder": 21,
    "_isFastLaunch": true,
    "category": "Compute optimized",
    "gpuNum": 0,
    "hideHardwareSpecs": false,
    "memoryGiB": 4,
    "name": "ml.c5.large",
    "vcpuNum": 2
   },
   {
    "_defaultOrder": 22,
    "_isFastLaunch": false,
    "category": "Compute optimized",
    "gpuNum": 0,
    "hideHardwareSpecs": false,
    "memoryGiB": 8,
    "name": "ml.c5.xlarge",
    "vcpuNum": 4
   },
   {
    "_defaultOrder": 23,
    "_isFastLaunch": false,
    "category": "Compute optimized",
    "gpuNum": 0,
    "hideHardwareSpecs": false,
    "memoryGiB": 16,
    "name": "ml.c5.2xlarge",
    "vcpuNum": 8
   },
   {
    "_defaultOrder": 24,
    "_isFastLaunch": false,
    "category": "Compute optimized",
    "gpuNum": 0,
    "hideHardwareSpecs": false,
    "memoryGiB": 32,
    "name": "ml.c5.4xlarge",
    "vcpuNum": 16
   },
   {
    "_defaultOrder": 25,
    "_isFastLaunch": false,
    "category": "Compute optimized",
    "gpuNum": 0,
    "hideHardwareSpecs": false,
    "memoryGiB": 72,
    "name": "ml.c5.9xlarge",
    "vcpuNum": 36
   },
   {
    "_defaultOrder": 26,
    "_isFastLaunch": false,
    "category": "Compute optimized",
    "gpuNum": 0,
    "hideHardwareSpecs": false,
    "memoryGiB": 96,
    "name": "ml.c5.12xlarge",
    "vcpuNum": 48
   },
   {
    "_defaultOrder": 27,
    "_isFastLaunch": false,
    "category": "Compute optimized",
    "gpuNum": 0,
    "hideHardwareSpecs": false,
    "memoryGiB": 144,
    "name": "ml.c5.18xlarge",
    "vcpuNum": 72
   },
   {
    "_defaultOrder": 28,
    "_isFastLaunch": false,
    "category": "Compute optimized",
    "gpuNum": 0,
    "hideHardwareSpecs": false,
    "memoryGiB": 192,
    "name": "ml.c5.24xlarge",
    "vcpuNum": 96
   },
   {
    "_defaultOrder": 29,
    "_isFastLaunch": true,
    "category": "Accelerated computing",
    "gpuNum": 1,
    "hideHardwareSpecs": false,
    "memoryGiB": 16,
    "name": "ml.g4dn.xlarge",
    "vcpuNum": 4
   },
   {
    "_defaultOrder": 30,
    "_isFastLaunch": false,
    "category": "Accelerated computing",
    "gpuNum": 1,
    "hideHardwareSpecs": false,
    "memoryGiB": 32,
    "name": "ml.g4dn.2xlarge",
    "vcpuNum": 8
   },
   {
    "_defaultOrder": 31,
    "_isFastLaunch": false,
    "category": "Accelerated computing",
    "gpuNum": 1,
    "hideHardwareSpecs": false,
    "memoryGiB": 64,
    "name": "ml.g4dn.4xlarge",
    "vcpuNum": 16
   },
   {
    "_defaultOrder": 32,
    "_isFastLaunch": false,
    "category": "Accelerated computing",
    "gpuNum": 1,
    "hideHardwareSpecs": false,
    "memoryGiB": 128,
    "name": "ml.g4dn.8xlarge",
    "vcpuNum": 32
   },
   {
    "_defaultOrder": 33,
    "_isFastLaunch": false,
    "category": "Accelerated computing",
    "gpuNum": 4,
    "hideHardwareSpecs": false,
    "memoryGiB": 192,
    "name": "ml.g4dn.12xlarge",
    "vcpuNum": 48
   },
   {
    "_defaultOrder": 34,
    "_isFastLaunch": false,
    "category": "Accelerated computing",
    "gpuNum": 1,
    "hideHardwareSpecs": false,
    "memoryGiB": 256,
    "name": "ml.g4dn.16xlarge",
    "vcpuNum": 64
   },
   {
    "_defaultOrder": 35,
    "_isFastLaunch": false,
    "category": "Accelerated computing",
    "gpuNum": 1,
    "hideHardwareSpecs": false,
    "memoryGiB": 61,
    "name": "ml.p3.2xlarge",
    "vcpuNum": 8
   },
   {
    "_defaultOrder": 36,
    "_isFastLaunch": false,
    "category": "Accelerated computing",
    "gpuNum": 4,
    "hideHardwareSpecs": false,
    "memoryGiB": 244,
    "name": "ml.p3.8xlarge",
    "vcpuNum": 32
   },
   {
    "_defaultOrder": 37,
    "_isFastLaunch": false,
    "category": "Accelerated computing",
    "gpuNum": 8,
    "hideHardwareSpecs": false,
    "memoryGiB": 488,
    "name": "ml.p3.16xlarge",
    "vcpuNum": 64
   },
   {
    "_defaultOrder": 38,
    "_isFastLaunch": false,
    "category": "Accelerated computing",
    "gpuNum": 8,
    "hideHardwareSpecs": false,
    "memoryGiB": 768,
    "name": "ml.p3dn.24xlarge",
    "vcpuNum": 96
   },
   {
    "_defaultOrder": 39,
    "_isFastLaunch": false,
    "category": "Memory Optimized",
    "gpuNum": 0,
    "hideHardwareSpecs": false,
    "memoryGiB": 16,
    "name": "ml.r5.large",
    "vcpuNum": 2
   },
   {
    "_defaultOrder": 40,
    "_isFastLaunch": false,
    "category": "Memory Optimized",
    "gpuNum": 0,
    "hideHardwareSpecs": false,
    "memoryGiB": 32,
    "name": "ml.r5.xlarge",
    "vcpuNum": 4
   },
   {
    "_defaultOrder": 41,
    "_isFastLaunch": false,
    "category": "Memory Optimized",
    "gpuNum": 0,
    "hideHardwareSpecs": false,
    "memoryGiB": 64,
    "name": "ml.r5.2xlarge",
    "vcpuNum": 8
   },
   {
    "_defaultOrder": 42,
    "_isFastLaunch": false,
    "category": "Memory Optimized",
    "gpuNum": 0,
    "hideHardwareSpecs": false,
    "memoryGiB": 128,
    "name": "ml.r5.4xlarge",
    "vcpuNum": 16
   },
   {
    "_defaultOrder": 43,
    "_isFastLaunch": false,
    "category": "Memory Optimized",
    "gpuNum": 0,
    "hideHardwareSpecs": false,
    "memoryGiB": 256,
    "name": "ml.r5.8xlarge",
    "vcpuNum": 32
   },
   {
    "_defaultOrder": 44,
    "_isFastLaunch": false,
    "category": "Memory Optimized",
    "gpuNum": 0,
    "hideHardwareSpecs": false,
    "memoryGiB": 384,
    "name": "ml.r5.12xlarge",
    "vcpuNum": 48
   },
   {
    "_defaultOrder": 45,
    "_isFastLaunch": false,
    "category": "Memory Optimized",
    "gpuNum": 0,
    "hideHardwareSpecs": false,
    "memoryGiB": 512,
    "name": "ml.r5.16xlarge",
    "vcpuNum": 64
   },
   {
    "_defaultOrder": 46,
    "_isFastLaunch": false,
    "category": "Memory Optimized",
    "gpuNum": 0,
    "hideHardwareSpecs": false,
    "memoryGiB": 768,
    "name": "ml.r5.24xlarge",
    "vcpuNum": 96
   },
   {
    "_defaultOrder": 47,
    "_isFastLaunch": false,
    "category": "Accelerated computing",
    "gpuNum": 1,
    "hideHardwareSpecs": false,
    "memoryGiB": 16,
    "name": "ml.g5.xlarge",
    "vcpuNum": 4
   },
   {
    "_defaultOrder": 48,
    "_isFastLaunch": false,
    "category": "Accelerated computing",
    "gpuNum": 1,
    "hideHardwareSpecs": false,
    "memoryGiB": 32,
    "name": "ml.g5.2xlarge",
    "vcpuNum": 8
   },
   {
    "_defaultOrder": 49,
    "_isFastLaunch": false,
    "category": "Accelerated computing",
    "gpuNum": 1,
    "hideHardwareSpecs": false,
    "memoryGiB": 64,
    "name": "ml.g5.4xlarge",
    "vcpuNum": 16
   },
   {
    "_defaultOrder": 50,
    "_isFastLaunch": false,
    "category": "Accelerated computing",
    "gpuNum": 1,
    "hideHardwareSpecs": false,
    "memoryGiB": 128,
    "name": "ml.g5.8xlarge",
    "vcpuNum": 32
   },
   {
    "_defaultOrder": 51,
    "_isFastLaunch": false,
    "category": "Accelerated computing",
    "gpuNum": 1,
    "hideHardwareSpecs": false,
    "memoryGiB": 256,
    "name": "ml.g5.16xlarge",
    "vcpuNum": 64
   },
   {
    "_defaultOrder": 52,
    "_isFastLaunch": false,
    "category": "Accelerated computing",
    "gpuNum": 4,
    "hideHardwareSpecs": false,
    "memoryGiB": 192,
    "name": "ml.g5.12xlarge",
    "vcpuNum": 48
   },
   {
    "_defaultOrder": 53,
    "_isFastLaunch": false,
    "category": "Accelerated computing",
    "gpuNum": 4,
    "hideHardwareSpecs": false,
    "memoryGiB": 384,
    "name": "ml.g5.24xlarge",
    "vcpuNum": 96
   },
   {
    "_defaultOrder": 54,
    "_isFastLaunch": false,
    "category": "Accelerated computing",
    "gpuNum": 8,
    "hideHardwareSpecs": false,
    "memoryGiB": 768,
    "name": "ml.g5.48xlarge",
    "vcpuNum": 192
   },
   {
    "_defaultOrder": 55,
    "_isFastLaunch": false,
    "category": "Accelerated computing",
    "gpuNum": 8,
    "hideHardwareSpecs": false,
    "memoryGiB": 1152,
    "name": "ml.p4d.24xlarge",
    "vcpuNum": 96
   },
   {
    "_defaultOrder": 56,
    "_isFastLaunch": false,
    "category": "Accelerated computing",
    "gpuNum": 8,
    "hideHardwareSpecs": false,
    "memoryGiB": 1152,
    "name": "ml.p4de.24xlarge",
    "vcpuNum": 96
   },
   {
    "_defaultOrder": 57,
    "_isFastLaunch": false,
    "category": "Accelerated computing",
    "gpuNum": 0,
    "hideHardwareSpecs": false,
    "memoryGiB": 32,
    "name": "ml.trn1.2xlarge",
    "vcpuNum": 8
   },
   {
    "_defaultOrder": 58,
    "_isFastLaunch": false,
    "category": "Accelerated computing",
    "gpuNum": 0,
    "hideHardwareSpecs": false,
    "memoryGiB": 512,
    "name": "ml.trn1.32xlarge",
    "vcpuNum": 128
   },
   {
    "_defaultOrder": 59,
    "_isFastLaunch": false,
    "category": "Accelerated computing",
    "gpuNum": 0,
    "hideHardwareSpecs": false,
    "memoryGiB": 512,
    "name": "ml.trn1n.32xlarge",
    "vcpuNum": 128
   }
  ],
  "instance_type": "ml.t3.medium",
  "kernelspec": {
   "display_name": "Python 3 (ipykernel)",
   "language": "python",
   "name": "python3"
  },
  "language_info": {
   "codemirror_mode": {
    "name": "ipython",
    "version": 3
   },
   "file_extension": ".py",
   "mimetype": "text/x-python",
   "name": "python",
   "nbconvert_exporter": "python",
   "pygments_lexer": "ipython3",
   "version": "3.10.14"
  }
 },
 "nbformat": 4,
 "nbformat_minor": 5
}
